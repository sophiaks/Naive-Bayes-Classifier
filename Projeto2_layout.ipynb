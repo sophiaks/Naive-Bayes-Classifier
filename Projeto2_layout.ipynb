{
 "cells": [
  {
   "cell_type": "markdown",
   "metadata": {},
   "source": [
    "\n",
    "\n",
    "# Projeto 2 - Ciência dos Dados"
   ]
  },
  {
   "cell_type": "markdown",
   "metadata": {},
   "source": [
    "Nome: Amanda Rosa do Carmo\n",
    "\n",
    "Nome: Beatriz Cabral\n",
    "\n",
    "Nome: Sophia Kerber Shigueoka"
   ]
  },
  {
   "cell_type": "markdown",
   "metadata": {},
   "source": [
    "Serão permitidos grupos de três pessoas, mas com uma rubrica mais exigente. Grupos deste tamanho precisarão fazer um questionário de avaliação de trabalho em equipe"
   ]
  },
  {
   "cell_type": "markdown",
   "metadata": {},
   "source": [
    "___\n",
    "# Classificador automático de sentimento\n"
   ]
  },
  {
   "cell_type": "markdown",
   "metadata": {},
   "source": [
    "## Preparando o ambiente no jupyter:"
   ]
  },
  {
   "cell_type": "code",
   "execution_count": 1,
   "metadata": {},
   "outputs": [],
   "source": [
    "%%capture\n",
    "\n",
    "#Instalando o tweepy\n",
    "!pip install tweepy"
   ]
  },
  {
   "cell_type": "code",
   "execution_count": 2,
   "metadata": {
    "jupyter": {
     "outputs_hidden": true
    }
   },
   "outputs": [],
   "source": [
    "import tweepy\n",
    "import math\n",
    "import os.path\n",
    "import pandas as pd\n",
    "import json\n",
    "from random import shuffle"
   ]
  },
  {
   "cell_type": "code",
   "execution_count": 3,
   "metadata": {},
   "outputs": [],
   "source": [
    "import re \n",
    "\n",
    "def cleanup(text):\n",
    "    \"\"\"\n",
    "        Função de limpeza muito simples que troca alguns sinais básicos por espaços\n",
    "    \"\"\"\n",
    "    punctuation = '[!\\-.:?;•,]' # Note que os sinais [] são delimitadores de um conjunto.\n",
    "    pattern = re.compile(punctuation)\n",
    "    text_subbed = re.sub(pattern, ' ', text)\n",
    "    return text_subbed"
   ]
  },
  {
   "cell_type": "markdown",
   "metadata": {},
   "source": [
    "___\n",
    "## Autenticando no  Twitter\n",
    "\n",
    "* Conta: ***@KerberSophie***"
   ]
  },
  {
   "cell_type": "code",
   "execution_count": 4,
   "metadata": {
    "jupyter": {
     "outputs_hidden": true
    }
   },
   "outputs": [],
   "source": [
    "#Dados de autenticação do twitter:\n",
    "\n",
    "#Coloque aqui o identificador da conta no twitter: @KerberSophie\n",
    "\n",
    "#leitura do arquivo no formato JSON\n",
    "with open('auth.pass') as fp:    \n",
    "    data = json.load(fp)\n",
    "\n",
    "#Configurando a biblioteca. Não modificar\n",
    "auth = tweepy.OAuthHandler(data['consumer_key'], data['consumer_secret'])\n",
    "auth.set_access_token(data['access_token'], data['access_token_secret'])"
   ]
  },
  {
   "cell_type": "markdown",
   "metadata": {},
   "source": [
    "___\n",
    "## Etapas do projeto:"
   ]
  },
  {
   "cell_type": "markdown",
   "metadata": {},
   "source": [
    "### Escolha de um produto e coleta das mensagens\n"
   ]
  },
  {
   "cell_type": "markdown",
   "metadata": {},
   "source": [
    "Quantidade mínima de mensagens capturadas:\n",
    "Escolhemos 1480 a partir de um método empírico. Quando testamos com 1000 não conseguimos tweets suficientes, e chegamos\n",
    "a conclusão de que o problema era proveniente do set(), que diminuía a quantidade de tweets baixados. Assim, decidiu-se\n",
    "aumentar a quantidade de tweets para 1500, já que com 1000 ficaram falatando 360 tweets. Com 1500, ficamos com 20 tweets a mais.\n",
    "como eram somente 20 tweets, imaginamos que poucos deles seriam retweets, então tiramos exatamente 20 tweets dos 1500.\n",
    "Com 1480 tweets, conseguimos 399 tweets de teste, ou seja, faltou somente 1. não achamos que 1 tweets afetará tanto a base\n",
    "de dados, então decidimos manter os 1480."
   ]
  },
  {
   "cell_type": "code",
   "execution_count": 5,
   "metadata": {
    "jupyter": {
     "outputs_hidden": true
    }
   },
   "outputs": [],
   "source": [
    "#Produto escolhido:\n",
    "produto = '13 Reasons Why'\n",
    "\n",
    "n = 1480\n",
    "#Quantidade mínima de mensagens para a base de treinamento:\n",
    "t = 600\n",
    "\n",
    "#Filtro de língua, escolha uma na tabela ISO 639-1.\n",
    "lang = 'pt'"
   ]
  },
  {
   "cell_type": "markdown",
   "metadata": {},
   "source": [
    "Capturando os dados do twitter:"
   ]
  },
  {
   "cell_type": "code",
   "execution_count": 6,
   "metadata": {
    "jupyter": {
     "outputs_hidden": true
    }
   },
   "outputs": [],
   "source": [
    "#Cria um objeto para a captura\n",
    "api = tweepy.API(auth, wait_on_rate_limit=True, wait_on_rate_limit_notify=True)\n",
    "\n",
    "#Inicia a captura, para mais detalhes: ver a documentação do tweepy\n",
    "i = 1\n",
    "msgs = []\n",
    "for msg in tweepy.Cursor(api.search, q=produto, lang=lang).items():    \n",
    "    msgs.append(msg.text.lower())\n",
    "    i += 1\n",
    "    if i > n:\n",
    "        break\n",
    "\n",
    "#Embaralhando as mensagens para reduzir um possível viés\n",
    "list = []\n",
    "shuffle(msgs)\n",
    "\n",
    "#Usando o set() para tirar os retweets\n",
    "listaset = set(msgs)\n",
    "\n",
    "#Adicionando o resultado do set() a uma lista para evitar o erro TypeError: 'set' object is not subscriptable\n",
    "for value in listaset:\n",
    "    list.append(value)"
   ]
  },
  {
   "cell_type": "markdown",
   "metadata": {},
   "source": [
    "Salvando os dados em uma planilha Excel:"
   ]
  },
  {
   "cell_type": "code",
   "execution_count": 7,
   "metadata": {
    "jupyter": {
     "outputs_hidden": true
    }
   },
   "outputs": [],
   "source": [
    "#Linhas abaixo foram comentadas uma vez que o conjunto de dados era o mesmo, mas o número de tweets foi alterado.\n",
    "\n",
    "# #Verifica se o arquivo não existe para não substituir um conjunto pronto\n",
    "# if not os.path.isfile('./{0}.xlsx'.format(produto)):\n",
    "    \n",
    "    #Abre o arquivo para escrita\n",
    "writer = pd.ExcelWriter('{0} novo.xlsx'.format(produto))\n",
    "\n",
    "    #divide o conjunto de mensagens em duas planilhas\n",
    "dft = pd.DataFrame({'Treinamento' : pd.Series(list[:t])})\n",
    "dft.to_excel(excel_writer = writer, sheet_name = 'Treinamento', index = False)\n",
    "\n",
    "dfc = pd.DataFrame({'Teste' : pd.Series(list[t:])})\n",
    "dfc.to_excel(excel_writer = writer, sheet_name = 'Teste', index = False)\n",
    "\n",
    "    #fecha o arquivo\n",
    "writer.save()"
   ]
  },
  {
   "cell_type": "markdown",
   "metadata": {},
   "source": [
    "___\n",
    "### Montando o Classificador Naive-Bayes\n",
    "\n",
    "Considerando apenas as mensagens da planilha Treinamento, ensine  seu classificador."
   ]
  },
  {
   "cell_type": "code",
   "execution_count": 8,
   "metadata": {
    "jupyter": {
     "outputs_hidden": true
    }
   },
   "outputs": [],
   "source": [
    "import tweepy\n",
    "import math\n",
    "import os.path\n",
    "import pandas as pd\n",
    "import json\n",
    "from random import shuffle"
   ]
  },
  {
   "cell_type": "code",
   "execution_count": 9,
   "metadata": {},
   "outputs": [],
   "source": [
    "import re \n",
    "\n",
    "def cleanup(text):\n",
    "    \"\"\"\n",
    "        Função de limpeza muito simples que troca alguns sinais básicos por espaços\n",
    "    \"\"\"\n",
    "    punctuation = '[!\\-.:?;•,]' # Note que os sinais [] são delimitadores de um conjunto.\n",
    "    pattern = re.compile(punctuation)\n",
    "    text_subbed = re.sub(pattern, ' ', text)\n",
    "    return text_subbed"
   ]
  },
  {
   "cell_type": "code",
   "execution_count": 10,
   "metadata": {},
   "outputs": [
    {
     "data": {
      "text/html": [
       "<div>\n",
       "<style scoped>\n",
       "    .dataframe tbody tr th:only-of-type {\n",
       "        vertical-align: middle;\n",
       "    }\n",
       "\n",
       "    .dataframe tbody tr th {\n",
       "        vertical-align: top;\n",
       "    }\n",
       "\n",
       "    .dataframe thead th {\n",
       "        text-align: right;\n",
       "    }\n",
       "</style>\n",
       "<table border=\"1\" class=\"dataframe\">\n",
       "  <thead>\n",
       "    <tr style=\"text-align: right;\">\n",
       "      <th></th>\n",
       "      <th>Treinamento</th>\n",
       "      <th>Categoria</th>\n",
       "    </tr>\n",
       "  </thead>\n",
       "  <tbody>\n",
       "    <tr>\n",
       "      <th>0</th>\n",
       "      <td>alguém aq ja assistiu a 3° temp de 13 reasons ...</td>\n",
       "      <td>O</td>\n",
       "    </tr>\n",
       "    <tr>\n",
       "      <th>1</th>\n",
       "      <td>(na 3° temporada de 13 reasons why) eu estou t...</td>\n",
       "      <td>R</td>\n",
       "    </tr>\n",
       "    <tr>\n",
       "      <th>2</th>\n",
       "      <td>13 ep de 13 reasons why p tentar fazer vc sent...</td>\n",
       "      <td>N</td>\n",
       "    </tr>\n",
       "    <tr>\n",
       "      <th>3</th>\n",
       "      <td>nossa nem sabia que tinha lançado a 3° tempora...</td>\n",
       "      <td>O</td>\n",
       "    </tr>\n",
       "    <tr>\n",
       "      <th>4</th>\n",
       "      <td>estava começando a ver  o primeiro episódio de...</td>\n",
       "      <td>N</td>\n",
       "    </tr>\n",
       "  </tbody>\n",
       "</table>\n",
       "</div>"
      ],
      "text/plain": [
       "                                         Treinamento Categoria\n",
       "0  alguém aq ja assistiu a 3° temp de 13 reasons ...         O\n",
       "1  (na 3° temporada de 13 reasons why) eu estou t...         R\n",
       "2  13 ep de 13 reasons why p tentar fazer vc sent...         N\n",
       "3  nossa nem sabia que tinha lançado a 3° tempora...         O\n",
       "4  estava começando a ver  o primeiro episódio de...         N"
      ]
     },
     "execution_count": 10,
     "metadata": {},
     "output_type": "execute_result"
    }
   ],
   "source": [
    "excel = pd.read_excel('13 Reasons Why v2.xlsx', sheet_name='Treinamento')\n",
    "excel.head()"
   ]
  },
  {
   "cell_type": "code",
   "execution_count": 11,
   "metadata": {},
   "outputs": [
    {
     "data": {
      "text/html": [
       "<div>\n",
       "<style scoped>\n",
       "    .dataframe tbody tr th:only-of-type {\n",
       "        vertical-align: middle;\n",
       "    }\n",
       "\n",
       "    .dataframe tbody tr th {\n",
       "        vertical-align: top;\n",
       "    }\n",
       "\n",
       "    .dataframe thead th {\n",
       "        text-align: right;\n",
       "    }\n",
       "</style>\n",
       "<table border=\"1\" class=\"dataframe\">\n",
       "  <thead>\n",
       "    <tr style=\"text-align: right;\">\n",
       "      <th></th>\n",
       "      <th>Teste</th>\n",
       "      <th>Clas_manual</th>\n",
       "    </tr>\n",
       "  </thead>\n",
       "  <tbody>\n",
       "    <tr>\n",
       "      <th>0</th>\n",
       "      <td>a coisa mais idiota de 13 reasons why foi colo...</td>\n",
       "      <td>N</td>\n",
       "    </tr>\n",
       "    <tr>\n",
       "      <th>1</th>\n",
       "      <td>atribuí nota 8 ao episódio 3x1 - yeah. i'm the...</td>\n",
       "      <td>O</td>\n",
       "    </tr>\n",
       "    <tr>\n",
       "      <th>2</th>\n",
       "      <td>rt @citou13reasons: ''quando você julga uma pe...</td>\n",
       "      <td>O</td>\n",
       "    </tr>\n",
       "    <tr>\n",
       "      <th>3</th>\n",
       "      <td>terminei 13 reasons why também, meu hobbie é c...</td>\n",
       "      <td>R</td>\n",
       "    </tr>\n",
       "    <tr>\n",
       "      <th>4</th>\n",
       "      <td>rt @wivisampaio: saiu a nova temporada de elit...</td>\n",
       "      <td>O</td>\n",
       "    </tr>\n",
       "  </tbody>\n",
       "</table>\n",
       "</div>"
      ],
      "text/plain": [
       "                                               Teste Clas_manual\n",
       "0  a coisa mais idiota de 13 reasons why foi colo...           N\n",
       "1  atribuí nota 8 ao episódio 3x1 - yeah. i'm the...           O\n",
       "2  rt @citou13reasons: ''quando você julga uma pe...           O\n",
       "3  terminei 13 reasons why também, meu hobbie é c...           R\n",
       "4  rt @wivisampaio: saiu a nova temporada de elit...           O"
      ]
     },
     "execution_count": 11,
     "metadata": {},
     "output_type": "execute_result"
    }
   ],
   "source": [
    "excel_treino = pd.read_excel('13 Reasons Why v2.xlsx', sheet_name='Teste')\n",
    "excel_treino.rename(columns={'Unnamed: 1':'Clas_manual'}, inplace=True)\n",
    "excel_treino.head()"
   ]
  },
  {
   "cell_type": "markdown",
   "metadata": {},
   "source": [
    "___\n",
    "### Função para limpar e criar tabela de frequências relativas:"
   ]
  },
  {
   "cell_type": "code",
   "execution_count": 12,
   "metadata": {},
   "outputs": [
    {
     "data": {
      "text/plain": [
       "reasons           0.062772\n",
       "why               0.059285\n",
       "13                0.059285\n",
       "de                0.054054\n",
       "a                 0.033130\n",
       "temporada         0.025283\n",
       "que               0.017437\n",
       "o                 0.012206\n",
       "eu                0.011334\n",
       "é                 0.011334\n",
       "foi               0.010462\n",
       "e                 0.009590\n",
       "da                0.008718\n",
       "série             0.008718\n",
       "mas               0.007847\n",
       "q                 0.007847\n",
       "uma               0.007847\n",
       "essa              0.007847\n",
       "tá                0.007847\n",
       "terceira          0.006975\n",
       "muito             0.006975\n",
       "boa               0.006975\n",
       "não               0.006975\n",
       "foda              0.006103\n",
       "atribuí           0.006103\n",
       "nota              0.006103\n",
       "ao                0.006103\n",
       "episódio          0.006103\n",
       "#bancodeseries    0.006103\n",
       "temp              0.005231\n",
       "                    ...   \n",
       "bullying          0.000872\n",
       "deus              0.000872\n",
       "importa           0.000872\n",
       "realidade         0.000872\n",
       "saco              0.000872\n",
       "confusa           0.000872\n",
       "pena              0.000872\n",
       "deveriam          0.000872\n",
       "coi…              0.000872\n",
       "melhores          0.000872\n",
       "fez               0.000872\n",
       "moms              0.000872\n",
       "why''             0.000872\n",
       "plmds             0.000872\n",
       "@s94zb            0.000872\n",
       "clay              0.000872\n",
       "vez               0.000872\n",
       "consigo           0.000872\n",
       "tempo             0.000872\n",
       "vi                0.000872\n",
       "nadinha           0.000872\n",
       "sempre            0.000872\n",
       "entre             0.000872\n",
       "chamada           0.000872\n",
       "iri…              0.000872\n",
       "expressiva        0.000872\n",
       "avisam            0.000872\n",
       "grieves           0.000872\n",
       "@isabellyiz       0.000872\n",
       "❤️                0.000872\n",
       "Length: 423, dtype: float64"
      ]
     },
     "execution_count": 12,
     "metadata": {},
     "output_type": "execute_result"
    }
   ],
   "source": [
    "def FreqRel(cat):\n",
    "    texto_completo = ' '.join(excel[excel.Categoria==cat].Treinamento)\n",
    "    semhttp = re.sub(r'http\\S+', '', texto_completo)\n",
    "    text_limpo = cleanup(semhttp)\n",
    "    rel = text_limpo.split()\n",
    "    freq_rel = pd.Series(rel).value_counts(True)\n",
    "    return freq_rel\n",
    "\n",
    "FreqRel('P')"
   ]
  },
  {
   "cell_type": "code",
   "execution_count": 13,
   "metadata": {},
   "outputs": [],
   "source": [
    "# # Estas funções dividem a função anterior\n",
    "def Limpa(texto):\n",
    "    semhttp = re.sub(r'http\\S+', '', texto)\n",
    "    text_limpo = cleanup(semhttp)\n",
    "    rel = text_limpo.split()\n",
    "    return(rel)\n",
    "\n",
    "def FreqRel(Limpa):\n",
    "    freq_rel = pd.Series(Limpa).value_counts(True)\n",
    "    return freq_rel\n"
   ]
  },
  {
   "cell_type": "markdown",
   "metadata": {},
   "source": [
    "___\n",
    "### Descobrindo P(N), P(R), P(P) e P(0)"
   ]
  },
  {
   "cell_type": "code",
   "execution_count": 14,
   "metadata": {},
   "outputs": [
    {
     "name": "stdout",
     "output_type": "stream",
     "text": [
      "Todas as palavras somadas:\n",
      "10095\n"
     ]
    }
   ],
   "source": [
    "texto_1 = ' '.join(excel[excel.Categoria=='O'].Treinamento)\n",
    "texto_2 = ' '.join(excel[excel.Categoria=='R'].Treinamento)\n",
    "texto_3 = ' '.join(excel[excel.Categoria=='P'].Treinamento)\n",
    "texto_4 = ' '.join(excel[excel.Categoria=='N'].Treinamento)\n",
    "\n",
    "texto_1 = Limpa(texto_1)\n",
    "texto_2 = Limpa(texto_2)\n",
    "texto_3 = Limpa(texto_3)\n",
    "texto_4 = Limpa(texto_4)\n",
    "\n",
    "#juntando todos os textos\n",
    "texto_enorme = texto_1 + texto_2 + texto_3 + texto_4\n",
    "set(texto_enorme)\n",
    "dic_global = 0\n",
    "for palavra in texto_enorme:\n",
    "        dic_global+=1\n",
    "    \n",
    "print('Todas as palavras somadas:')\n",
    "print(dic_global)\n",
    "\n",
    "def prob_cat(cat):\n",
    "    palavras = 0\n",
    "    texto_completo = ' '.join(excel[excel.Categoria==cat].Treinamento)\n",
    "    texto_completo.replace('•', '')\n",
    "    semhttp = re.sub(r'http\\S+', '', texto_completo)\n",
    "    text_limpo = cleanup(semhttp)\n",
    "    rel = text_limpo.split()\n",
    "    set(rel)\n",
    "    # Para verificar se o código era coerente, imprimimos o total de palavras de cada categoria\n",
    "    for palavra in rel:\n",
    "        palavras += 1\n",
    "    prob_final = palavras/dic_global\n",
    "    return prob_final"
   ]
  },
  {
   "cell_type": "code",
   "execution_count": 15,
   "metadata": {},
   "outputs": [
    {
     "name": "stdout",
     "output_type": "stream",
     "text": [
      "Probabilidade da Categoria 'Neutro'\n",
      "0.5090638930163447\n",
      "\n",
      "Probabilidade da Categoria 'Negativo'\n",
      "0.2220901436354631\n",
      "\n",
      "Probabilidade da Categoria 'Positivo'\n",
      "0.11362060425953442\n",
      "\n",
      "Probabilidade da Categoria 'Reação'\n",
      "0.15522535908865776\n",
      "\n",
      "Probabilidade Total (se tudo der certo, deve ser 1)\n",
      "1.0\n"
     ]
    }
   ],
   "source": [
    "print(\"Probabilidade da Categoria 'Neutro'\")\n",
    "print(prob_cat('O'))\n",
    "print('')\n",
    "print(\"Probabilidade da Categoria 'Negativo'\")\n",
    "print(prob_cat('N'))\n",
    "print('')\n",
    "print(\"Probabilidade da Categoria 'Positivo'\")\n",
    "print(prob_cat('P'))\n",
    "print('')\n",
    "print(\"Probabilidade da Categoria 'Reação'\")\n",
    "print(prob_cat('R'))\n",
    "\n",
    "\n",
    "\n",
    "print('')\n",
    "print(\"Probabilidade Total (se tudo der certo, deve ser 1)\")\n",
    "print(prob_cat('O') + prob_cat('N') + prob_cat('P') + prob_cat('R'))"
   ]
  },
  {
   "cell_type": "code",
   "execution_count": 16,
   "metadata": {},
   "outputs": [
    {
     "name": "stdout",
     "output_type": "stream",
     "text": [
      "R\n"
     ]
    }
   ],
   "source": [
    "try:\n",
    "    Fqr = FreqRel('R')\n",
    "    Fqn = FreqRel('N')\n",
    "    Fqp = FreqRel('P')\n",
    "    Fqo = FreqRel('O')\n",
    "except: \n",
    "    pass\n",
    "\n",
    "for palavra, frequencia in Fqr.items():\n",
    "    print(palavra)"
   ]
  },
  {
   "cell_type": "code",
   "execution_count": 17,
   "metadata": {},
   "outputs": [],
   "source": [
    "Neutro_set = set(FreqRel(0).index)\n",
    "Reacao_set = set(FreqRel('R').index)"
   ]
  },
  {
   "cell_type": "markdown",
   "metadata": {},
   "source": [
    "___\n",
    "### Verificando a performance\n",
    "\n",
    "Agora você deve testar o seu classificador com a base de Testes."
   ]
  },
  {
   "cell_type": "markdown",
   "metadata": {},
   "source": [
    "###   P(N | palavras) = P(N) * P(cada_palavra | N)\n",
    "\n",
    "NÃO É PRECISO DIVIDIR PELA PROBABILIDADE "
   ]
  },
  {
   "cell_type": "code",
   "execution_count": 18,
   "metadata": {},
   "outputs": [],
   "source": [
    "# probP = 0\n",
    "# probN = 0\n",
    "# probR = 0\n",
    "# probO = 0\n",
    "# i = 0\n",
    "# dic_catR = {}\n",
    "# dic_catP = {}\n",
    "# dic_catN = {}\n",
    "# dic_catO = {}\n",
    "\n",
    "\n",
    "# #Para cada tweet na planilha:\n",
    "# for tweet in excel_treino['Teste']:\n",
    "#     tweet = cleanup(tweet.lower())\n",
    "#     pal_tweet = tweet.split()\n",
    "#     #Para cada palavra de cada tweet:\n",
    "#     for palavra in pal_tweet:\n",
    "#         um = True\n",
    "#         for palavra1, frequencia in Fqr.items():\n",
    "#             if um == True:\n",
    "#                 #Seta a frquencia inicial de cada palavra para 1\n",
    "#                 dic_catR[tweet] = 1\n",
    "#             um = False\n",
    "#             # probabilidade total são todas as probabilidades das palavras multiplicadas pela probabilidade de certa categoria\n",
    "#             dic_catR[tweet] = dic_catR[tweet] *  prob_cat('R') * frequencia\n",
    "                              \n",
    "#         for palavra1, frequencia in Fqn.items():\n",
    "#             if um == True:\n",
    "#                 dic_catN[tweet] = 1\n",
    "#             um = False\n",
    "#             dic_catN[tweet] = dic_catN[tweet] *  prob_cat('N') * frequencia\n",
    "            \n",
    "#         for palavra1, frequencia in Fqp.items():\n",
    "#             if um == True:\n",
    "#                 dic_catP[tweet] = 1\n",
    "#             um = False\n",
    "#             dic_catP[tweet] = dic_catP[tweet] *  prob_cat('P') * frequencia\n",
    "\n",
    "#         for palavra1, frequencia in Fqo.items():\n",
    "#             if um == True:\n",
    "#                 dic_catP[tweet] = 1\n",
    "#             um = False\n",
    "#             dic_catO[tweet] = dic_catP[tweet] *  prob_cat('O') * frequencia     \n",
    "\n",
    "#         #Não precisa dividir pela probabilidade do tweet pois cancelaria.\n",
    "    \n",
    "# # fazer contador pra ver qual é a maior probabilidade, e adicionar em uma nova coluna do dataframe\n",
    "# #  DataFrame.insert(2, 'Predição', [lista com letra de cada linha], True)"
   ]
  },
  {
   "cell_type": "code",
   "execution_count": 19,
   "metadata": {},
   "outputs": [],
   "source": [
    "prob_R = 1\n",
    "prob_tweet = 1\n",
    "dicR = {}\n",
    "for tweet in excel_treino['Teste']:\n",
    "    tweet = cleanup(tweet)\n",
    "    pal_tweet = tweet.split()\n",
    "    for palavra_teste in pal_tweet:\n",
    "        for palavra, freq in Fqr.items():\n",
    "            if palavra_teste in Fqr.items():\n",
    "                probabilidade = freq\n",
    "            else:\n",
    "                probabilidade = 1\n",
    "            prob_tweet = prob_tweet * freq\n",
    "    prob_tweet = prob_tweet * prob_cat('R')\n",
    "    dicR[tweet] = prob_tweet"
   ]
  },
  {
   "cell_type": "code",
   "execution_count": 20,
   "metadata": {},
   "outputs": [],
   "source": [
    "prob_N = 1\n",
    "prob_tweet = 1\n",
    "dicN = {}\n",
    "for tweet in excel_treino['Teste']:\n",
    "    tweet = cleanup(tweet)\n",
    "    pal_tweet = tweet.split()\n",
    "    for palavra_teste in pal_tweet:\n",
    "        for palavra, freq in Fqn.items():\n",
    "            if palavra_teste in Fqn.items():\n",
    "                probabilidade = freq\n",
    "            else:\n",
    "                probabilidade = 1\n",
    "            prob_tweet = prob_tweet * freq\n",
    "    prob_tweet = prob_tweet * prob_cat('N')\n",
    "    dicN[tweet] = prob_tweet"
   ]
  },
  {
   "cell_type": "code",
   "execution_count": 21,
   "metadata": {},
   "outputs": [],
   "source": [
    "prob_P = 1\n",
    "prob_tweet = 1\n",
    "dicP = {}\n",
    "for tweet in excel_treino['Teste']:\n",
    "    tweet = cleanup(tweet)\n",
    "    pal_tweet = tweet.split()\n",
    "    for palavra_teste in pal_tweet:\n",
    "        for palavra, freq in Fqp.items():\n",
    "            if palavra_teste in Fqp.items():\n",
    "                probabilidade = freq\n",
    "            else:\n",
    "                probabilidade = 1\n",
    "            prob_tweet = prob_tweet * freq\n",
    "    prob_tweet = prob_tweet * prob_cat('P')\n",
    "    dicP[tweet] = prob_tweet"
   ]
  },
  {
   "cell_type": "code",
   "execution_count": 22,
   "metadata": {},
   "outputs": [],
   "source": [
    "prob_O = 1\n",
    "prob_tweet = 1\n",
    "dicO = {}\n",
    "for tweet in excel_treino['Teste']:\n",
    "    tweet = cleanup(tweet)\n",
    "    pal_tweet = tweet.split()\n",
    "    for palavra_teste in pal_tweet:\n",
    "        for palavra, freq in Fqo.items():\n",
    "            if palavra_teste in Fqo.items():\n",
    "                probabilidade = freq\n",
    "            else:\n",
    "                probabilidade = 1\n",
    "            prob_tweet = prob_tweet * freq\n",
    "    prob_tweet = prob_tweet * prob_cat('O')\n",
    "    dicO[tweet] = math.log(prob_tweet,10)"
   ]
  },
  {
   "cell_type": "code",
   "execution_count": 23,
   "metadata": {},
   "outputs": [
    {
     "name": "stdout",
     "output_type": "stream",
     "text": [
      "0.2220901436354631\n"
     ]
    }
   ],
   "source": [
    "print(dicN['a coisa mais idiota de 13 reasons why foi colocar o zac e a cheryl nas fitas  botaram eles num nível de fdp igual aos outros desnecessário'])"
   ]
  },
  {
   "cell_type": "code",
   "execution_count": 24,
   "metadata": {},
   "outputs": [
    {
     "name": "stdout",
     "output_type": "stream",
     "text": [
      "-0.29322770559448513\n"
     ]
    }
   ],
   "source": [
    "print(dicO['a coisa mais idiota de 13 reasons why foi colocar o zac e a cheryl nas fitas  botaram eles num nível de fdp igual aos outros desnecessário'])"
   ]
  },
  {
   "cell_type": "code",
   "execution_count": 25,
   "metadata": {},
   "outputs": [
    {
     "name": "stdout",
     "output_type": "stream",
     "text": [
      "0.15522535908865776\n"
     ]
    }
   ],
   "source": [
    "print(dicR['a coisa mais idiota de 13 reasons why foi colocar o zac e a cheryl nas fitas  botaram eles num nível de fdp igual aos outros desnecessário'])"
   ]
  },
  {
   "cell_type": "code",
   "execution_count": 26,
   "metadata": {},
   "outputs": [
    {
     "name": "stdout",
     "output_type": "stream",
     "text": [
      "0.11362060425953442\n"
     ]
    }
   ],
   "source": [
    "print(dicP['a coisa mais idiota de 13 reasons why foi colocar o zac e a cheryl nas fitas  botaram eles num nível de fdp igual aos outros desnecessário'])"
   ]
  },
  {
   "cell_type": "code",
   "execution_count": 27,
   "metadata": {},
   "outputs": [
    {
     "name": "stdout",
     "output_type": "stream",
     "text": [
      "0.15522535908865776 0.11362060425953442 -0.29322770559448513 0.2220901436354631\n",
      "0.024094912104202743 0.012909641712301731 -0.5864554111889704 0.049324031900020625\n",
      "0.0037401413835845172 0.0014668012921258133 -0.8796831167834557 0.010954381329355743\n",
      "0.000580564789309256 0.00016665884914000078 -1.1729108223779405 0.0024328601228742522\n",
      "9.01183778947602e-05 1.8935879144485476e-05 -1.466138527972426 0.0005403142541341331\n",
      "1.3988657569201508e-05 2.1515060305819554e-06 -1.759366233566911 0.00011999847030893772\n",
      "2.1713943943475743e-06 2.444554152627541e-07 -2.052593939161396 2.6650477506947832e-05\n",
      "3.3705547458570075e-07 2.7775171996669537e-08 -2.345821644755881 5.918808377471722e-06\n",
      "5.2319557075363356e-08 3.155831825674092e-09 -2.6390493503503665 1.314509002703477e-06\n",
      "8.121322034382802e-09 3.5856751897456e-10 -2.9322770559448514 2.9193949322052457e-07\n",
      "1.260635129061699e-09 4.0740658173731586e-11 -3.225504761539337 6.48368839822106e-08\n",
      "1.9568254058837865e-10 4.628978199630523e-12 -3.518732467133822 1.4399632876485009e-08\n",
      "3.037489263021192e-11 5.259473001462317e-13 -3.811960172728307 3.1980165338364924e-09\n",
      "4.714953615804069e-12 5.975845005128557e-14 -4.105187878322792 7.102479513483324e-10\n",
      "7.318803680995519e-13 6.789791204440272e-15 -4.398415583917277 1.5773906953174454e-10\n",
      "1.1360639294819196e-13 7.714601794445756e-16 -4.691643289511762 3.503229260922944e-11\n",
      "1.7634593140150255e-14 8.765377175066153e-17 -4.984870995106248 7.780326897463338e-12\n",
      "2.737336052562204e-15 9.959274511937472e-18 -5.278098700700733 1.7279339181884897e-12\n",
      "4.2490397170529707e-16 1.1315787880329154e-18 -5.571326406295218 3.837570920830702e-13\n",
      "6.595587158615161e-17 1.2857066566357147e-19 -5.864554111889703 8.52286677018567e-14\n",
      "1.0238023850965783e-17 1.4608276722745563e-20 -6.157781817484189 1.892844705176451e-14\n",
      "1.5892009286244064e-18 1.659801228428842e-21 -6.451009523078674 4.203821524522638e-15\n",
      "2.4668428480975185e-19 1.8858761852480255e-22 -6.744237228673159 9.33627326199084e-16\n",
      "3.829165669112245e-20 2.1427439172654633e-23 -7.037464934267644 2.073494269775479e-16\n",
      "5.943836159979087e-21 2.434598586531438e-24 -7.3306926398621295 4.605026402017458e-17\n",
      "9.226341022969023e-22 2.7662056253111038e-25 -7.623920345456615 1.022730975069157e-17\n",
      "1.4321620983647806e-22 3.1429795465397085e-26 -7.917148051051099 2.2713846915354628e-18\n",
      "2.2230787599183866e-23 3.5710723525319914e-27 -8.210375756645584 5.04452152394503e-19\n",
      "3.450781987906996e-24 4.05747398549202e-28 -8.503603462240068 1.120338509825137e-19\n",
      "5.356488732095357e-25 4.6101264599894475e-29 -8.796831167834554 2.4881614056740535e-20\n",
      "8.314628868938509e-26 5.2380535409686936e-30 -9.09005887342904 5.525961239743663e-21\n",
      "1.2906412518699003e-26 5.951508084686569e-31 -9.383286579023524 1.2272615254586717e-21\n",
      "2.0034025177614004e-27 6.762139448375923e-32 -9.67651428461801 2.7256268846739393e-22\n",
      "3.109788752186344e-28 7.683183702117071e-33 -9.969741990212496 6.05334866313915e-23\n",
      "4.8271807574799416e-29 8.729679748715484e-34 -10.26296969580698 1.3443890740721122e-23\n",
      "7.493008664656829e-30 9.91871488041274e-35 -10.556197401401466 2.9857556256262264e-24\n",
      "1.1631049606257801e-30 1.1269703781905311e-35 -10.849425106995952 6.6310689575572055e-25\n",
      "1.8054338517093586e-31 1.2804705535260418e-36 -11.142652812590436 1.4726950572405402e-25\n",
      "2.802491179424037e-32 1.4548783802816937e-37 -11.435880518184922 3.270710567937881e-26\n",
      "4.350176996688921e-33 1.6530416069173876e-38 -11.729108223779406 7.26392579823351e-27\n",
      "6.752577864102565e-34 1.8781958624410536e-39 -12.022335929373892 1.6132463238870263e-27\n",
      "1.0481713237294422e-34 2.134017488083099e-40 -12.315563634968377 3.5828610779145247e-28\n",
      "1.6270277011233641e-35 2.424683564964155e-41 -12.608791340562862 7.957181314199469e-29\n",
      "2.5255595915406753e-36 2.754940117893894e-42 -12.902019046157347 1.767211541003983e-29\n",
      "3.9203089449670515e-37 3.1301796089393722e-43 -13.195246751751833 3.924802649758226e-30\n",
      "6.085313637209876e-38 3.5565289860856465e-44 -13.488474457346317 8.716599842256506e-31\n",
      "9.445949945030091e-39 4.0409497246560044e-45 -13.781702162940803 1.9358709109796024e-31\n",
      "1.4662509721507828e-39 4.591351494978145e-46 -14.074929868535287 4.2993784867917467e-32\n",
      "2.2759933366619877e-40 5.216721312273335e-47 -14.368157574129775 9.54849585674799e-33\n",
      "3.5329188296674936e-41 5.927270277540876e-48 -14.661385279724259 2.1206268163277852e-33\n",
      "5.483985939662172e-42 6.734600305437727e-49 -14.954612985318743 4.709703142354526e-34\n",
      "8.512536867212108e-43 7.651893561502796e-50 -15.24784069091323 1.0459786473659085e-34\n",
      "1.3213615919684371e-43 8.694127701875886e-51 -15.541068396507715 2.32301548033122e-35\n",
      "2.0510882759926113e-44 9.878320429966955e-52 -15.834296102102199 5.1591884169416494e-36\n",
      "3.18380914163489e-45 1.1223807363221493e-52 -16.127523807696683 1.1458048965609884e-36\n",
      "4.9420791728002704e-46 1.2752557747018378e-53 -16.42075151329117 2.5447197405544684e-37\n",
      "7.671360142424986e-47 1.448953317070835e-54 -16.713979218885655 5.651571726917403e-38\n",
      "1.1907896328063351e-47 1.6463095142944503e-55 -17.007206924480137 1.2551583765972082e-38\n",
      "1.8484074835141428e-48 1.8705468181235607e-56 -17.300434630074626 2.7875830414372863e-39\n",
      "2.8691971537064507e-49 2.125326597709484e-57 -17.59366233566911 6.190947180685879e-40\n",
      "4.453721584802386e-50 2.4148089228061202e-58 -17.886890041263594 1.3749483485980922e-40\n",
      "6.913305322818563e-51 2.743720489805468e-59 -18.18011774685808 3.053624762314931e-41\n",
      "1.0731203012240405e-51 3.1174317997096305e-60 -18.473345452452566 6.781799620713298e-42\n",
      "1.6657548410283026e-52 3.542044848208961e-61 -18.76657315804705 1.5061708518711454e-42\n",
      "2.5856739335228826e-53 4.02449275967873e-62 -19.059800863641538 3.3450570083161048e-43\n",
      "4.0136216481727166e-54 4.572652991928185e-63 -19.35302856923602 7.429041914457362e-44\n",
      "6.230158615836203e-55 5.195475960120484e-64 -19.646256274830506 1.649916985855711e-44\n",
      "9.670786083224697e-56 5.903131180047742e-65 -19.939483980424992 3.664303003752852e-45\n",
      "1.5011512424381477e-56 6.707173317003229e-66 -20.232711686019478 8.138055804273296e-46\n",
      "2.330167406538462e-57 7.620730851513327e-67 -20.52593939161396 1.8073819824844706e-46\n",
      "3.6170107241661915e-58 8.658720442482205e-68 -20.81916709720845 4.014017240941241e-47\n",
      "5.614517884862231e-59 9.838090487892114e-69 -21.112394802802932 8.914736655958654e-48\n",
      "8.715155547874309e-60 1.1178097859942799e-69 -21.405622508397418 1.9798751443941854e-48\n",
      "1.3528131494322975e-60 1.2700622333189094e-70 -21.698850213991904 4.397107551987879e-49\n",
      "2.099909069004864e-61 1.4430523839690829e-71 -21.99207791958639 9.765542478015674e-50\n",
      "3.25959139289809e-62 1.6396048384472887e-72 -22.28530562518087 2.1688307316207173e-50\n",
      "5.059712444449041e-63 1.8629289249123724e-73 -22.578533330775358 4.816759287066516e-51\n",
      "7.853956810749527e-64 2.116671101411086e-74 -22.871761036369843 1.0697547619220533e-51\n",
      "1.2191332662154045e-64 2.404974495610218e-75 -23.16498874196433 2.3758198872998945e-52\n",
      "1.8924039902521437e-65 2.73254655420002e-76 -23.45821644755881 5.276461800224233e-53\n",
      "2.937490889276978e-66 3.104735906555149e-77 -23.751444153153297 1.171850159098834e-53\n",
      "4.559730781076795e-67 3.527619697690694e-78 -24.044671858747783 2.6025637015350033e-54\n",
      "7.077858478402514e-68 4.008102816494528e-79 -24.33789956434227 5.780037462943514e-55\n",
      "1.098663123888731e-68 4.554030639444501e-80 -24.631127269936755 1.2836893503634827e-55\n",
      "1.7054037792309474e-69 5.174317130701182e-81 -24.924354975531237 2.8509475220554016e-56\n",
      "2.6472191402227784e-70 5.879090390207286e-82 -25.217582681125723 6.331673446704517e-57\n",
      "4.109155416274486e-71 6.679858026317739e-83 -25.51081038672021 1.406202265231454e-57\n",
      "6.378451250423101e-72 7.589695053181225e-84 -25.804038092314695 3.1230366306576718e-58\n",
      "9.900973857764239e-73 8.6234573808805e-85 -26.097265797909177 6.93595653881575e-59\n",
      "1.536882222398867e-73 9.798024384219846e-86 -26.390493503503667 1.5404075839549193e-59\n",
      "2.385630948488385e-74 1.1132574510847116e-86 -26.68372120909815 3.421093415777047e-60\n",
      "3.703104206321247e-75 1.26488984288674e-87 -26.976948914692635 7.597911281002614e-61\n",
      "5.748156801689345e-76 1.4371754827053897e-88 -27.27017662028712 1.6874212077273757e-61\n",
      "8.922597036401391e-77 1.6329274677197442e-89 -27.563404325881606 3.7475961839769946e-62\n",
      "1.3850133289787994e-77 1.8553420559430873e-90 -27.85663203147609 8.323041747871641e-63\n",
      "2.1498919133331142e-78 2.108050855043805e-91 -28.149859737070575 1.8484655372687686e-63\n",
      "3.3371774424893415e-79 2.3951801195990532e-92 -28.443087442665057 4.1052597667722426e-64\n",
      "5.1801456685297656e-80 2.7214181249926833e-93 -28.73631514825955 9.11737731263335e-65\n",
      "8.04089971529088e-81 3.0920917180451784e-94 -29.029542853854032 2.0248796369414532e-65\n",
      "1.2481515457019128e-81 3.5132532943019513e-95 -29.322770559448518 4.4970580941285167e-66\n",
      "1.9374477187864262e-82 3.991779622153876e-96 -29.615998265043 9.987522780620241e-67\n",
      "3.0074101786412384e-83 4.535484127400194e-97 -29.909225970637486 2.218130368910409e-67\n",
      "4.668263249064706e-84 5.1532444716473726e-98 -30.20245367623197 4.926248922334955e-68\n",
      "7.246328391564531e-85 5.855147507656797e-99 -30.49568138182646 1.0940713307454153e-68\n",
      "1.1248139266549401e-85 6.652653978486722e-100 -30.788909087420944 2.4298245899269153e-69\n",
      "1.7459964567293625e-86 7.55878564965257e-101 -31.08213679301543 5.396400921858488e-70\n",
      "2.7102292696333937e-87 8.588337929818225e-102 -31.375364498609912 1.198487455850097e-70\n",
      "4.2069631159143415e-88 9.758121451710257e-103 -31.668592204204398 2.6617225121504877e-71\n",
      "6.530273603405422e-89 1.1087236557812446e-103 -31.96181990979888 5.911423350412474e-72\n",
      "1.0136640650357896e-89 1.2597385172670506e-104 -32.255047615393366 1.3128688609831368e-72\n",
      "1.5734636849044897e-90 1.4313225154089223e-105 -32.548275320987855 2.9157523391027167e-73\n",
      "2.4424146550226205e-91 1.6262772909103851e-106 -32.84150302658234 6.475598557967598e-74\n",
      "3.7912469186928645e-92 1.847786084867966e-107 -33.13473073217683 1.4381666138646215e-74\n",
      "5.884976643478671e-93 2.0994657150505767e-108 -33.42795843777131 3.194026298449214e-75\n",
      "9.134976127123405e-94 2.38542563166222e-109 -33.72118614336579 7.093617593980324e-76\n",
      "1.4179799495990467e-94 2.7103350168564306e-110 -34.014413848960274 1.5754225503421383e-76\n",
      "2.2010644685702884e-95 3.0794990236100304e-111 -34.30764155455476 3.498858204920331e-77\n",
      "3.4166102251110865e-96 3.4989453987921794e-112 -34.60086926014925 7.770619212908749e-78\n",
      "5.303445490588483e-97 3.9755229048188507e-113 -34.894096965743735 1.7257779371313932e-78\n",
      "8.232292306837199e-98 4.517013146931373e-114 -35.18732467133822 3.832782699404243e-79\n",
      "1.277860529451599e-98 5.132257632026038e-115 -35.48055237693271 8.512232602342062e-80\n",
      "1.9835635954934677e-99 5.831302133664057e-116 -35.77378008252719 1.89048296131262e-80\n",
      "3.0789937138566263e-100 6.625560720468225e-117 -36.06700778812168 4.198576324183154e-81\n",
      "4.779379048651148e-101 7.52800212617836e-118 -36.36023549371616 9.324624189022913e-82\n",
      "7.41880829047682e-102 8.553361504434451e-119 -36.65346319931064 2.0709071254868125e-82\n",
      "1.1515871808991756e-102 9.718381025840828e-120 -36.94669090490513 4.599280609550702e-83\n",
      "1.7875553367696962e-103 1.1042083245804289e-120 -37.239918610499615 1.0214548911949155e-83\n",
      "2.7747391904092263e-104 1.2546081706723644e-121 -37.5331463160941 2.2685506350262512e-84\n",
      "4.3070988720864364e-105 1.4254933846074314e-122 -37.826374021688586 5.0382273637730113e-85\n",
      "6.685709690499699e-106 1.6196541972706525e-123 -38.119601727283076 1.1189406388884686e-85\n",
      "1.0377916874703346e-106 1.8402608858538272e-124 -38.41282943287756 2.4850568721029683e-86\n",
      "1.6109158734680677e-107 2.0909155384589795e-125 -38.70605713847204 5.519066376676429e-87\n",
      "2.5005499492069957e-108 2.3757108693535905e-126 -38.99928484406652 1.2257302443297228e-87\n",
      "3.8814876378478084e-109 2.699297045218988e-127 -39.29251254966101 2.722226060215194e-88\n",
      "6.02505312383112e-110 3.066957613537572e-128 -39.585740255255494 6.045795767213933e-89\n",
      "9.352410346749247e-111 3.4846957728851855e-129 -39.878967960849984 1.342711650331217e-89\n",
      "1.4517312544186301e-111 3.959332393758601e-130 -40.172195666444466 2.982030232830697e-90\n",
      "2.2534550526735943e-112 4.498617390432011e-131 -40.465423372038956 6.622795227346629e-91\n",
      "3.4979336974140883e-113 5.11135626233335e-132 -40.75865107763344 1.4708575433096723e-91\n",
      "5.429680142494182e-114 5.807553871120705e-133 -41.05187878322792 3.2666296306094946e-92\n",
      "8.428240498552138e-115 6.598577801065328e-134 -41.3451064888224 7.254862438659224e-93\n",
      "1.3082766578733233e-115 7.497343970105925e-135 -41.6383341944169 1.611233441057353e-93\n",
      "2.0307771400569565e-116 8.51852752225012e-136 -41.93156190001138 3.57839066354689e-94\n",
      "3.152281107943785e-117 9.678802444795332e-137 -42.224789605605864 7.947252964509288e-95\n",
      "4.893139669289659e-118 1.0997113822863047e-137 -42.518017311200346 1.7650065523952278e-95\n",
      "7.595393622364435e-119 1.249498717664578e-138 -42.811245016794835 3.919905587389897e-96\n",
      "1.1789977024512203e-119 1.4196879932256277e-139 -43.10447272238932 8.705723949408765e-97\n",
      "1.8301034172769313e-120 1.6130580765030163e-140 -43.3977004279838 1.9334554823748835e-97\n",
      "2.840784601161913e-121 1.83276633357995e-141 -43.69092813357829 4.2940140579341144e-98\n",
      "4.4096180980888734e-122 2.0824001828788535e-142 -43.98415583917278 9.536581988992851e-99\n",
      "6.844845527196894e-123 2.366035670888603e-143 -44.27738354476726 2.1179808637267927e-99\n",
      "1.0624936048655308e-123 2.68830402625976e-144 -44.57061125036174 4.703826742422455e-100\n",
      "1.6492595134465446e-124 3.0544672789697327e-145 -44.863838955956226 1.0446735568609355e-100\n",
      "2.5600690020512485e-125 3.4705041792751694e-146 -45.157066661550715 2.3201170029541527e-101\n",
      "3.9738763013514676e-126 3.9432078193448435e-147 -45.450294367145204 5.1527511843716795e-102\n",
      "6.168463758511887e-127 4.4802965515488216e-148 -45.74352207273969 1.1443752506549088e-102\n",
      "9.575020019403792e-128 5.090540014488854e-149 -46.03674977833417 2.541544637908178e-103\n",
      "1.4862859207930403e-128 5.783902324535626e-150 -46.32997748392866 5.644520136889682e-104\n",
      "2.30709265763516e-129 6.571704770918637e-151 -46.62320518952314 1.2535922879550934e-104\n",
      "3.5811928623222347e-130 7.4668106708704075e-152 -46.91643289511762 2.784104912922555e-105\n",
      "5.55891948019707e-131 8.483835403158353e-153 -47.20966060071211 6.183222600071687e-106\n",
      "8.628852724585248e-132 9.639385049452829e-154 -47.502888306306595 1.3732327953799626e-106\n",
      "1.339416762696888e-132 1.0952327540091524e-154 -47.796116011901084 3.049814687708644e-107\n",
      "2.0791144795899193e-133 1.2444100731535393e-155 -48.08934371749557 6.773337820547578e-108\n",
      "3.22731291680773e-134 1.4139062445835657e-156 -48.38257142309005 1.504291569456926e-108\n",
      "5.0096080640294336e-135 1.6064888187591382e-157 -48.67579912868454 3.340883307303049e-109\n",
      "7.776182106324045e-136 1.8253023032359896e-158 -48.96902683427902 7.419772535882551e-110\n",
      "1.2070606597929448e-136 2.0739195064999307e-159 -49.26225453987351 1.64785834823662e-110\n",
      "1.87366424358152e-137 2.3563998751415756e-160 -49.55548224546799 3.659730972507679e-111\n",
      "2.9084020502151975e-138 2.6773557769067727e-161 -49.848709951062474 8.127901773513834e-112\n",
      "4.5145775261884244e-139 3.0420278118990275e-162 -50.141937656656964 1.8051268723346225e-112\n",
      "7.007769176361824e-140 3.456370381622768e-163 -50.435165362251446 4.009008863570306e-113\n",
      "1.0877834868111916e-140 3.9271489130473655e-164 -50.72839306784593 8.903613543461739e-114\n",
      "1.688515823509794e-141 4.462050325176155e-165 -51.02162077344042 1.977404810742072e-114\n",
      "2.6210047503118845e-142 5.0698085418296675e-166 -51.31484847903491 4.391621184431625e-115\n",
      "4.0684640354024e-143 5.760347100028359e-167 -51.60807618462939 9.753357796429622e-116\n",
      "6.315287908346272e-144 6.544941182498789e-168 -51.90130389022387 2.1661246339371184e-116\n",
      "9.802928333213083e-145 7.436401719986242e-169 -52.194531595818354 4.810749310834095e-117\n",
      "1.521663070643378e-145 8.449284569414778e-170 -52.487759301412844 1.0684200054373491e-117\n",
      "2.3620069655256796e-146 9.600128183376672e-171 -52.78098700700733 2.372855524705831e-118\n",
      "3.6664337939363445e-147 1.090772365164244e-171 -53.074214712601815 5.269878243081202e-119\n",
      "5.691235022385589e-148 1.2393421523956293e-172 -53.3674424181963 1.1703880159473061e-119\n",
      "8.834240000077483e-149 1.408148042395034e-173 -53.66067012379079 2.599316425709619e-120\n",
      "1.3712980762874111e-149 1.5999463146380426e-174 -53.95389782938527 5.772825583398678e-121\n",
      "2.1286023630929898e-150 1.817868670519896e-175 -54.24712553497975 1.2820876629994883e-121\n",
      "3.3041306616807484e-151 2.0654733680894706e-176 -54.54035324057424 2.847390332288116e-122\n",
      "5.128848684352385e-152 2.346803321643014e-177 -54.83358094616873 6.323773278840966e-123\n",
      "7.961273787399889e-153 2.666452114833618e-178 -55.12680865176321 1.4044477158158936e-123\n",
      "1.235791582452266e-153 3.0296390051650914e-179 -55.420036357357695 3.1191399493404986e-124\n",
      "1.9182619214489362e-154 3.442294144551124e-180 -55.71326406295218 6.927302393681424e-125\n",
      "2.977628955830097e-155 3.911155407429558e-181 -56.00649176854667 1.5384855836189948e-125\n",
      "4.6220352390151186e-156 4.4438784074509197e-182 -56.29971947414115 3.416824842470318e-126\n",
      "7.174570796965518e-157 5.04916149910471e-183 -56.59294717973563 7.588431200414514e-127\n",
      "1.11367532826597e-157 5.736887805322538e-184 -56.886174885330114 1.685315775267889e-127\n",
      "1.7287065273826399e-158 6.51828659009901e-185 -57.1794025909246 3.742920226003573e-128\n",
      "2.6833909147187686e-159 7.406116611038698e-186 -57.4726302965191 8.312656906092135e-129\n",
      "4.165303183124626e-160 8.414874445627921e-187 -57.76585800211358 1.8461591662663266e-129\n",
      "6.465606823136493e-161 9.561031192803591e-188 -58.059085707708064 4.100137544100153e-130\n",
      "1.0036261408474379e-161 1.0863301414706012e-188 -58.35231341330255 9.106001360943579e-131\n",
      "1.5578822810380736e-162 1.2342948709923522e-189 -58.645541118897036 2.0223531501966817e-131\n",
      "2.418228364919922e-163 1.4024132907659514e-190 -58.93876882449152 4.491447016088123e-132\n",
      "3.753703663030726e-164 1.5934304551842954e-191 -59.231996530086 9.975061129340833e-133\n",
      "5.826699990063544e-165 1.8104653116358463e-192 -59.52522423568049 2.21536275898783e-133\n",
      "9.044515982594922e-166 2.0570616269899115e-193 -59.81845194127497 4.92010233348263e-134\n",
      "1.403938241181401e-166 2.3372458505769474e-194 -60.111679646869455 1.0927062339443345e-134\n",
      "2.1792681762568155e-167 2.6555928584564225e-195 -60.40490735246394 2.4267928444806316e-135\n",
      "3.382776852099485e-168 3.0173006524512297e-196 -60.698135058058426 5.389667714042175e-136\n",
      "5.2509275158394187e-169 3.428275233641962e-197 -60.99136276365292 1.1969920767590446e-136\n",
      "8.150771091946873e-170 3.895227036143963e-198 -61.284590469247405 2.658401422579275e-137\n",
      "1.2652063695969046e-170 4.425780495747523e-199 -61.57781817484189 5.904047537813505e-138\n",
      "1.9639211304193655e-171 5.0285985424689544e-200 -61.87104588043637 1.3112307657036036e-138\n",
      "3.048503626911487e-172 5.7135240497393664e-201 -62.16427358603086 2.912114290943516e-139\n",
      "4.732050701704111e-173 6.49174054982769e-202 -62.45750129162534 6.467518811585301e-140\n",
      "7.345342693977555e-174 7.375954839675444e-203 -62.750728997219824 1.436372181830039e-140\n",
      "1.1401834573019146e-174 8.380604458749613e-204 -63.043956702814306 3.190041041766169e-141\n",
      "1.76985386586637e-175 9.522093426632793e-205 -63.337184408408795 7.084766731688707e-142\n",
      "2.7472620186355637e-176 1.0819060089497587e-205 -63.63041211400328 1.5734568610644953e-142\n",
      "4.264447333533361e-177 1.2292681448889284e-206 -63.92363981959776 3.4944926027801867e-143\n",
      "6.619503686623851e-178 1.3967018941927697e-207 -64.21686752519224 7.76092364084515e-144\n",
      "1.0275148367448811e-178 1.586941131886188e-208 -64.51009523078673 1.7236246461391604e-144\n",
      "1.594963595026477e-179 1.803092103292182e-209 -64.80332293638122 3.828000452346704e-145\n",
      "2.475787967713214e-180 2.0486841431165257e-210 -65.09655064197571 8.501611702982972e-146\n",
      "3.8430507631566186e-181 2.3277273027782616e-211 -65.3897783475702 1.888124164248422e-146\n",
      "5.9653893470692635e-182 2.644777826930823e-212 -65.68300605316468 4.1933376683952075e-147\n",
      "9.2597970350248e-183 3.0050125482809845e-213 -65.97623375875916 9.312989650858896e-148\n",
      "1.437355319849813e-183 3.4143134154316883e-214 -66.26946146435365 2.0683232092348333e-148\n",
      "2.2311399566167975e-184 3.879363533927832e-215 -66.56268916994813 4.593541986235261e-149\n",
      "3.4632950094289465e-185 4.4077562886728313e-216 -66.85591687554262 1.0201803995185194e-149\n",
      "5.375912114685646e-186 5.0081193294776996e-217 -67.1491445811371 2.2657201146315208e-150\n",
      "8.344778884311449e-187 5.690255444191106e-218 -67.44237228673158 5.031941056962724e-151\n",
      "1.2953212988326934e-187 6.465302619600989e-219 -67.73559999232607 1.1175445121060353e-151\n",
      "2.010667137464914e-188 7.345915903598151e-220 -68.02882769792055 2.481956212126529e-152\n",
      "3.121065284207548e-189 8.346474038065457e-221 -68.32205540351504 5.512180116481107e-153\n",
      "4.844684794802604e-190 9.483314236415135e-222 -68.61528310910953 1.2242008738138327e-153\n",
      "7.520179369445944e-191 1.0774998939245329e-222 -68.90851081470402 2.7188294790397353e-154\n",
      "1.1673225430333625e-191 1.2242618903728966e-223 -69.2017385202985 6.038252295202661e-155\n",
      "1.8119806091463885e-192 1.391013757560884e-224 -69.49496622589298 1.3410363195487236e-155\n",
      "2.8126534071643296e-193 1.5804782366739316e-225 -69.78819393148747 2.978309488289488e-156\n",
      "4.365951351190198e-194 1.7957489226993555e-226 -70.08142163708196 6.614531820450749e-157\n",
      "6.77706366252109e-195 2.0403407769550875e-227 -70.37464934267643 1.469022322085248e-157\n",
      "1.0519721405815303e-195 2.3182475197300498e-228 -70.66787704827092 3.2625537851561423e-158\n",
      "1.63292753273032e-196 2.634006840148952e-229 -70.96110475386541 7.245810387637514e-159\n",
      "2.5347176263381984e-197 2.9927744880147083e-230 -71.25433245945989 1.609223069745746e-159\n",
      "3.934524537366971e-198 3.400408457407499e-231 -71.54756016505438 3.573925827013336e-160\n",
      "6.1073798415592305e-199 3.8635646365987135e-232 -71.84078787064885 7.93733700263883e-161\n",
      "9.480202289968613e-200 4.389805486061143e-233 -72.13401557624336 1.7628043149991336e-161\n",
      "1.4715678046934936e-200 4.9877235190808626e-234 -72.42724328183785 3.915014635193717e-162\n",
      "2.2842464090685533e-201 5.6670816011745906e-235 -72.72047098743232 8.694861626651127e-163\n",
      "3.545729690946432e-202 6.438972359135468e-236 -73.01369869302681 1.931043067553425e-163\n",
      "5.503871645084754e-203 7.315999302554118e-237 -73.30692639862129 4.288656322392054e-164\n",
      "8.543404524861624e-204 8.312482615185313e-238 -73.60015410421578 9.524682986431883e-165\n",
      "1.326153035211309e-204 9.444692976342302e-239 -73.89338180981026 2.1153382125389083e-165\n",
      "2.0585258109718884e-205 1.073111723017793e-239 -74.18660951540474 4.697957674603499e-166\n",
      "3.195354082013818e-206 1.2192760240727178e-240 -74.47983722099923 1.0433700947460173e-166\n",
      "4.959999847960033e-207 1.3853487861430485e-241 -74.77306492659372 2.317222142070897e-167\n",
      "7.69917757479284e-208 1.574041661917857e-242 -75.0662926321882 5.14632198367801e-168\n",
      "1.1951076037345598e-208 1.788435647567887e-243 -75.35952033778268 1.1429473885493905e-168\n",
      "1.8551100693928233e-209 2.0320313895595504e-244 -75.65274804337717 2.5383734969071157e-169\n",
      "2.879601266704858e-210 2.308806343560975e-245 -75.94597574897166 5.6374773452855404e-170\n",
      "4.4698714065641535e-211 2.6232797187364423e-246 -76.23920345456615 1.2520281533561349e-170\n",
      "6.938373941640445e-212 2.9805862678461606e-247 -76.53243116016063 2.780631124145076e-171\n",
      "1.0770115865825237e-212 3.3865601280035128e-248 -76.82565886575512 6.175507657586191e-172\n",
      "1.6717951026991727e-213 3.8478300810500536e-249 -77.1188865713496 1.3715193826952194e-172\n",
      "2.5950499513913855e-214 4.371927788969204e-250 -77.41211427694408 3.0460093670160296e-173\n",
      "4.028175605577317e-215 4.9674107716173125e-251 -77.70534198253857 6.7648865783555605e-174\n",
      "6.252750048479104e-216 5.644002134764792e-252 -77.99856968813305 1.5024146318646028e-174\n",
      "9.705853715667911e-217 6.412749329940779e-253 -78.29179739372753 3.33671481390831e-175\n",
      "1.5065946282765346e-217 7.286204538327958e-254 -78.58502509932202 7.410514722914741e-176\n",
      "2.338616921752679e-218 8.278629624033846e-255 -78.8782528049165 1.645802279224849e-176\n",
      "3.6301265144987105e-219 9.406229003236079e-256 -79.17148051051099 3.6551646458861924e-177\n",
      "5.634876917503199e-220 1.0687414231512414e-256 -79.46470821610548 8.11776041216131e-178\n",
      "8.74675792939823e-221 1.214310462956388e-257 -79.75793592169997 1.8028745759351814e-178\n",
      "1.3577186404524049e-221 1.379706885597798e-258 -80.05116362729446 4.004006735261691e-179\n",
      "2.1075236350558877e-222 1.5676313004266214e-259 -80.34439133288893 8.892504309516305e-180\n",
      "3.2714111303938346e-223 1.7811521561063245e-260 -80.63761903848342 1.9749375593794505e-180\n",
      "5.078059674420148e-224 2.0237558425497317e-261 -80.93084674407791 4.386141662336531e-181\n",
      "7.882436364355e-225 2.2994036170426373e-262 -81.22407444967239 9.74118831793809e-182\n",
      "1.2235540151504988e-225 2.6125962840494353e-263 -81.51730215526688 2.1634219127109656e-182\n",
      "1.8992661136610517e-226 2.9684476847991105e-264 -81.81052986086137 4.804746833380867e-183\n",
      "2.9481426449795623e-227 3.372768196596909e-265 -82.10375756645584 1.0670869143575932e-183\n",
      "4.576265007115378e-228 3.83215960524681e-266 -82.39698527205033 2.3698948608120096e-184\n",
      "7.103523790143436e-229 4.354122899671214e-267 -82.6902129776448 5.2633029003868504e-185\n",
      "1.102647031119838e-229 4.947180748809195e-268 -82.9834406832393 1.168927697143865e-185\n",
      "1.7115878135361925e-230 5.621016660608367e-269 -83.2766683888338 2.5960732015815206e-186\n",
      "2.6568183296792606e-231 6.38663309531233e-270 -83.56989609442827 5.765622702274164e-187\n",
      "4.124055792577911e-232 7.256531114733276e-271 -83.86312380002276 1.280487974095956e-187\n",
      "6.401580413045653e-233 8.244914500841078e-272 -84.15635150561724 2.8438375809045398e-188\n",
      "9.936876183499295e-234 9.367921676537609e-273 -84.44957921121173 6.315882968190171e-189\n",
      "1.542455173803209e-234 1.0643889215441938e-273 -84.74280691680622 1.40269535559013e-189\n",
      "2.394281582317611e-235 1.2093651243300548e-274 -85.03603462240069 3.1152481299980895e-190\n",
      "3.7165321837461083e-236 1.374087961967878e-275 -85.32926232799518 6.918659046513835e-191\n",
      "5.76900042786543e-237 1.5612470454454247e-276 -85.62249003358967 1.5365659814050536e-191\n",
      "8.954951629980317e-238 1.7738983270192194e-277 -85.91571773918415 3.4125615951561466e-192\n",
      "1.3900355823852557e-238 2.0155139981090092e-278 -86.20894544477864 7.578962948330936e-193\n",
      "2.157687724217628e-239 2.2900391835869576e-279 -86.50217315037312 1.6832129698026705e-193\n",
      "3.3492785179287005e-240 2.60195635817161e-280 -86.7954008559676 3.738250102325495e-194\n",
      "5.1989296063341e-241 2.956358536723959e-281 -87.0886285615621 8.302285021707538e-195\n",
      "8.070057150198648e-242 3.359032433504092e-282 -87.38185626715658 1.843855672973581e-195\n",
      "1.2526775190055751e-242 3.8165529482210934e-283 -87.67508397275107 4.0950217125376603e-196\n",
      "1.944473177099293e-243 4.336390521653882e-284 -87.96831167834556 9.09463960327829e-197\n",
      "3.0183154715350096e-244 4.9270331137563175e-285 -88.26153938394003 2.0198298158048464e-197\n",
      "4.685191029118732e-245 5.598124795917282e-286 -88.55476708953452 4.485842939112893e-198\n",
      "7.272604598939132e-246 6.360623220324045e-287 -88.847994795129 9.962615026737103e-199\n",
      "1.1288926603801506e-246 7.226978537604438e-288 -89.14122250072349 2.2125986022728663e-199\n",
      "1.7523276858005905e-247 8.211336684133026e-289 -89.43445020631798 4.913963413864058e-200\n",
      "2.720056942693933e-248 9.329770358296761e-290 -89.72767791191245 1.0913428404044791e-200\n",
      "4.2222181567126236e-249 1.060054145712371e-290 -90.02090561750694 2.4237648818096502e-201\n",
      "6.553953295263676e-250 1.2044399258366413e-291 -90.31413332310143 5.382942907396965e-202\n",
      "1.017339753707596e-250 1.36849192167868e-292 -90.60736102869592 1.1954985634852892e-202\n",
      "1.5791692858442823e-251 1.5548887906542308e-293 -90.90058873429041 2.6550844768043766e-203\n",
      "2.4512711945695796e-252 1.7666740395051043e-294 -91.19381643988488 5.896680928177724e-204\n",
      "3.8049945140074604e-253 2.0073057189820255e-295 -91.48704414547937 1.3095947143114865e-204\n",
      "5.906316397671809e-254 2.2807128872435694e-296 -91.78027185107386 2.908480782056813e-205\n",
      "9.16810083719834e-255 2.5913597639112174e-297 -92.07349955666834 6.459449146479816e-206\n",
      "1.423121744615136e-255 2.9443186222943696e-298 -92.36672726226283 1.4345799887476717e-206\n",
      "2.2090458383476158e-256 3.3453526099768615e-299 -92.65995496785732 3.1860607575753144e-207\n",
      "3.428999335008137e-257 3.801009850067816e-300 -92.95318267345179 7.075926912812139e-208\n",
      "5.322676530914067e-258 4.3187303596114756e-301 -93.24641037904628 1.5714936244204869e-208\n",
      "8.262143758239072e-259 4.906967530930523e-302 -93.53963808464076 3.490132447697604e-209\n",
      "1.2824942317147722e-259 5.5753261594624166e-303 -93.83286579023525 7.751240166159513e-210\n",
      "1.9907562764705777e-260 6.334719271821091e-304 -94.12609349582974 1.7214740418553368e-210\n",
      "3.0901585787314467e-261 7.197546314788303e-305 -94.41932120142422 3.82322417220373e-211\n",
      "4.796709750244851e-262 8.177895614722321e-306 -94.71254890701871 8.491004055553008e-212\n",
      "7.445709934258228e-263 9.291774413161469e-307 -95.00577661261319 1.8857683103070672e-212\n",
      "1.1557629982152198e-263 1.0557370234666868e-307 -95.29900431820768 4.188105548993011e-213\n",
      "1.794037264193412e-264 1.1995347854544723e-308 -95.59223202380217 9.301369629363377e-214\n",
      "2.7848007855285553e-265 1.362918671536683e-309 -95.88545972939664 2.0657425169918465e-214\n"
     ]
    },
    {
     "name": "stdout",
     "output_type": "stream",
     "text": [
      "4.322717019240462e-266 1.548556430166e-310 -96.17868743499113 4.5878105231260223e-215\n",
      "6.70995301550253e-267 1.7594791732545e-311 -96.47191514058562 1.0189074980533474e-215\n",
      "1.0415548662994022e-267 1.99913086847e-312 -96.7651428461801 2.2628931259391825e-216\n",
      "1.616757281318636e-268 2.2714245727e-313 -97.05837055177459 5.025662593715351e-217\n",
      "2.5096172955188734e-269 2.580806325e-314 -97.35159825736908 1.1161501273016163e-217\n",
      "3.895562458720232e-270 2.93232774e-315 -97.64482596296355 2.4788594209115637e-218\n",
      "6.046900815071426e-271 3.3317285e-316 -97.93805366855806 5.5053024484237005e-219\n",
      "9.386323503929593e-272 3.78553e-317 -98.23128137415253 1.2226734115270862e-219\n",
      "1.4569954364197794e-272 4.301143e-318 -98.52450907974702 2.7154371358531224e-220\n",
      "2.2616263980879587e-273 4.887e-319 -98.81773678534151 6.030718235346904e-221\n",
      "3.5106176976759103e-274 5.553e-320 -99.11096449093598 1.3393630791132003e-221\n",
      "5.449368927447401e-275 6.31e-321 -99.40419219653047 2.9745933862028675e-222\n",
      "8.458802485695967e-276 7.16e-322 -99.69741990212495 6.6062787239889335e-223\n",
      "1.3130206533021873e-276 8e-323 -99.99064760771944 1.467189390706606e-223\n",
      "2.0381410239965602e-277 1e-323 -100.28387531331393 3.258483025224577e-224\n",
      "3.163711723231907e-278 0.0 -100.5771030189084 7.236769631058446e-225\n",
      "4.91088288291669e-279 0.0 -100.87033072450289 1.6072152068185276e-225\n",
      "7.622935589430859e-280 0.0 -101.16355843009738 3.569466561354273e-226\n",
      "1.183272914179114e-280 0.0 -101.45678613569186 7.92743341313153e-227\n",
      "1.836739630033355e-281 0.0 -101.75001384128636 1.7606048253829508e-227\n",
      "2.8510856862429592e-282 0.0 -102.04324154688084 3.910129785545889e-228\n",
      "4.425607994395956e-283 0.0 -102.33646925247533 8.68401285705189e-229\n",
      "6.869665901157467e-284 0.0 -102.62969695806981 1.9286336627548625e-229\n",
      "1.0663463563262755e-284 0.0 -102.92292466366429 4.283305271814167e-230\n",
      "1.655239960736279e-285 0.0 -103.21615236925878 9.512798830517445e-231\n",
      "2.569352172831847e-286 0.0 -103.50938007485327 2.1126988586448847e-231\n",
      "3.988286136530465e-287 0.0 -103.80260778044774 4.692095929749214e-232\n",
      "6.190831476912569e-288 0.0 -104.09583548604223 1.0420682589893746e-232\n",
      "9.60974039061119e-289 0.0 -104.38906319163671 2.3143308931690715e-233\n",
      "1.4916754028814e-289 0.0 -104.6822908972312 5.139900804839086e-234\n",
      "2.3154585005598354e-290 0.0 -104.97551860282569 1.141521308018745e-234\n",
      "3.594178772042855e-291 0.0 -105.26874630842016 2.535206312608248e-235\n",
      "5.5790769051918315e-292 0.0 -105.56197401401467 5.630443341126985e-236\n",
      "8.660142159916394e-293 0.0 -105.85520171960914 1.2504659703622289e-236\n",
      "1.3442736765318465e-293 0.0 -106.14842942520363 2.7771616696900616e-237\n",
      "2.0866536415308603e-294 0.0 -106.44165713079812 6.167802341203683e-238\n",
      "3.239015608002831e-295 0.0 -106.7348848363926 1.3698081078730714e-238\n",
      "5.027773608460066e-296 0.0 -107.02811254198708 3.0422087943055235e-239\n",
      "7.804379637896903e-297 0.0 -107.32134024758157 6.756445880963827e-240\n",
      "1.2114376317567554e-297 0.0 -107.61456795317605 1.5005400361684892e-240\n",
      "1.880458414029555e-298 0.0 -107.90779565877054 3.3325515216342276e-241\n",
      "2.918948325690255e-299 0.0 -108.20102336436503 7.401268461123267e-242\n",
      "4.530948020165062e-300 0.0 -108.4942510699595 1.6437487756154892e-242\n",
      "7.033180334421646e-301 0.0 -108.78747877555399 3.650604016770606e-243\n",
      "1.0917279429458861e-301 0.0 -109.08070648114848 8.107631704407823e-244\n",
      "1.6946386197089683e-302 0.0 -109.37393418674297 1.8006250897753678e-244\n",
      "2.6305088826983193e-303 0.0 -109.66716189233746 3.9990108482183e-245\n",
      "4.083216859027505e-304 0.0 -109.96038959793194 8.881408936805773e-246\n",
      "6.338188031794057e-305 0.0 -110.25361730352643 1.9724733864604798e-246\n",
      "9.838475132066653e-306 0.0 -110.5468450091209 4.380668977161362e-247\n",
      "1.5271808352598758e-306 0.0 -110.84007271471539 9.729034023571842e-248\n",
      "2.370571935465305e-307 0.0 -111.13330042030988 2.1607225637293776e-248\n",
      "3.679728799280964e-308 0.0 -111.42652812590435 4.798751845350435e-249\n",
      "5.71187224217263e-309 0.0 -111.71975583149884 1.0657554866048216e-249\n",
      "8.86627419859783e-310 0.0 -112.01298353709333 2.3669378910034768e-250\n",
      "1.37627059625585e-310 0.0 -112.30621124268781 5.256735761891823e-251\n",
      "2.13632097507e-311 0.0 -112.5994389482823 1.1674692004122303e-251\n",
      "3.316111904836e-312 0.0 -112.89266665387679 2.592834024095315e-252\n",
      "5.14744661206e-313 0.0 -113.18589435947126 5.758428808342442e-253\n",
      "7.9901424874e-314 0.0 -113.47912206506575 1.2788902811593615e-253\n",
      "1.2402727366e-314 0.0 -113.77234977066023 2.8402892623668036e-254\n",
      "1.92521781e-315 0.0 -114.06557747625472 6.308002502453069e-255\n",
      "2.98842627e-316 0.0 -114.3588051818492 1.4009451818226627e-255\n",
      "4.638795e-317 0.0 -114.65203288744371 3.111361166564051e-256\n",
      "7.200587e-318 0.0 -114.9452605930382 6.91002648384012e-257\n",
      "1.117715e-318 0.0 -115.23848829863267 1.5346487743209065e-257\n",
      "1.73496e-319 0.0 -115.53171600422716 3.408303667189175e-258\n",
      "2.693e-320 0.0 -115.82494370982165 7.569506509993194e-259\n",
      "4.18e-321 0.0 -116.11817141541613 1.6811127880539616e-259\n",
      "6.47e-322 0.0 -116.41139912101062 3.733585805663181e-260\n",
      "1e-322 0.0 -116.7046268266051 8.29192607855062e-261\n"
     ]
    }
   ],
   "source": [
    "tweets_classificados = []\n",
    "\n",
    "for tweet in excel_treino['Teste']:\n",
    "    tweet = cleanup(tweet)\n",
    "    pal_tweet = tweet.split()\n",
    "    maior = dicN[tweet]\n",
    "    if maior < dicP[tweet]:\n",
    "        maior = dicP\n",
    "        tweets_classificados.append('P')\n",
    "    elif maior < dicO[tweet]:\n",
    "        maior = dicO\n",
    "        tweets_classificados.append('O') \n",
    "    elif maior < dicR[tweet]:\n",
    "        maior = dicR\n",
    "        tweets_classificados.append('R')\n",
    "    else:\n",
    "        tweets_classificados.append('N')\n",
    "        \n",
    "    print(dicR[tweet],dicP[tweet],dicO[tweet], dicN[tweet])"
   ]
  },
  {
   "cell_type": "markdown",
   "metadata": {},
   "source": [
    "### **DASHBOARD**"
   ]
  },
  {
   "cell_type": "code",
   "execution_count": 28,
   "metadata": {},
   "outputs": [
    {
     "name": "stdout",
     "output_type": "stream",
     "text": [
      "398\n"
     ]
    }
   ],
   "source": [
    "print(len(tweets_classificados))"
   ]
  },
  {
   "cell_type": "code",
   "execution_count": 29,
   "metadata": {},
   "outputs": [],
   "source": [
    "# from time import sleep\n",
    "# import pandas as pd\n",
    "\n",
    "# for e in range(3):\n",
    "#     !jupyter nbconvert --to notebook --execute Projeto2_layout.ipynb\n",
    "#     dashboard = pd.readExcel(\"13 Reasons Why novo.xlsx\")\n",
    "#     print(f\"dashoard: {dashoard}\")\n",
    "#     sleep(5)\n",
    "\n",
    "excel_treino['Categorias'] = tweets_classificados\n",
    "excel_treino.to_excel('fill_auto1.xlsx')"
   ]
  },
  {
   "cell_type": "markdown",
   "metadata": {},
   "source": [
    "___\n",
    "### Concluindo"
   ]
  },
  {
   "cell_type": "code",
   "execution_count": null,
   "metadata": {},
   "outputs": [],
   "source": []
  },
  {
   "cell_type": "markdown",
   "metadata": {},
   "source": [
    "## Aperfeiçoamento:\n",
    "\n",
    "Os trabalhos vão evoluir em conceito dependendo da quantidade de itens avançados:\n",
    "\n",
    "* Limpar: \\n, :, \", ', (, ), etc SEM remover emojis\n",
    "* Corrigir separação de espaços entre palavras e emojis ou emojis e emojis\n",
    "* Propor outras limpezas e transformações que não afetem a qualidade da informação ou classificação\n",
    "* Criar categorias intermediárias de relevância baseadas na probabilidade: ex.: muito relevante, relevante, neutro, irrelevante, muito irrelevante (3 categorias: C, mais categorias conta para B)\n",
    "* Explicar por que não posso usar o próprio classificador para gerar mais amostras de treinamento\n",
    "* Propor diferentes cenários para Naïve Bayes fora do contexto do projeto\n",
    "* Sugerir e explicar melhorias reais com indicações concretas de como implementar (indicar como fazer e indicar material de pesquisa)\n",
    "* Montar um dashboard que periodicamente realiza análise de sentimento e visualiza estes dados"
   ]
  },
  {
   "cell_type": "markdown",
   "metadata": {},
   "source": [
    "___\n",
    "### Por que não se pode utilizar o próprio classificador para gerar mais amostras de treinamento?"
   ]
  },
  {
   "cell_type": "markdown",
   "metadata": {},
   "source": [
    "    Ao se utilizar o próprio classificador para gerar mais amostras de treinamento, o classificador acaba ficando \n",
    "    'viciado', ou seja, acaba-se por prejudicar os resultados obtidos, e eles acabam não tendo uma qualidade boa.\n",
    "    Seria o contrário de puxar mais tweets, que melhora a qualidade dos dados e dos resultados, por ter um espaço \n",
    "    amostral muito maior."
   ]
  },
  {
   "cell_type": "markdown",
   "metadata": {},
   "source": [
    "### Outras limpezas e tranformações:\n",
    "___\n",
    "    - Remover URLs\n",
    "    - Trocar vírgulas por espaços\n",
    "    - \n",
    "    \n",
    "    "
   ]
  },
  {
   "cell_type": "markdown",
   "metadata": {},
   "source": [
    "### Outros cenários de Naive Bayes fora do contexto do projeto\n",
    "___"
   ]
  },
  {
   "cell_type": "markdown",
   "metadata": {},
   "source": [
    "    - Previsão de Chuva\n",
    "    - Filtros de e-mail (Spam)"
   ]
  },
  {
   "cell_type": "markdown",
   "metadata": {},
   "source": [
    "# Referências"
   ]
  },
  {
   "cell_type": "markdown",
   "metadata": {},
   "source": [
    "[Naive Bayes and Text Classification](https://arxiv.org/pdf/1410.5329.pdf)  **Mais completo**\n",
    "\n",
    "[A practical explanation of a Naive Bayes Classifier](https://monkeylearn.com/blog/practical-explanation-naive-bayes-classifier/) **Mais simples**\n",
    "\n",
    "https://towardsdatascience.com/naive-bayes-classifier-81d512f50a7c\n",
    "\n",
    "https://www.geeksforgeeks.org/naive-bayes-classifiers/\n",
    "\n",
    "https://www.analyticsvidhya.com/blog/2017/09/naive-bayes-explained/"
   ]
  },
  {
   "cell_type": "code",
   "execution_count": null,
   "metadata": {},
   "outputs": [],
   "source": []
  }
 ],
 "metadata": {
  "kernelspec": {
   "display_name": "Python 3",
   "language": "python",
   "name": "python3"
  },
  "language_info": {
   "codemirror_mode": {
    "name": "ipython",
    "version": 3
   },
   "file_extension": ".py",
   "mimetype": "text/x-python",
   "name": "python",
   "nbconvert_exporter": "python",
   "pygments_lexer": "ipython3",
   "version": "3.7.1"
  }
 },
 "nbformat": 4,
 "nbformat_minor": 4
}
